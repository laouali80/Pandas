{
 "cells": [
  {
   "cell_type": "code",
   "execution_count": null,
   "id": "b3f7db1d-0004-4e92-9dfa-40ab5753ec84",
   "metadata": {},
   "outputs": [],
   "source": []
  }
 ],
 "metadata": {
  "kernelspec": {
   "display_name": "",
   "name": ""
  },
  "language_info": {
   "name": ""
  }
 },
 "nbformat": 4,
 "nbformat_minor": 5
}
